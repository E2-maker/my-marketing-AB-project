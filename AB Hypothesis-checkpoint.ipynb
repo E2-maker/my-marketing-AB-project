{
 "cells": [
  {
   "cell_type": "markdown",
   "id": "d6508c8b-f3b5-4358-a289-9729a445937c",
   "metadata": {},
   "source": [
    "**Evaluating the Impact of Marketing Campaigns**\n",
    "*( An A/B  Testing System)*\n",
    "\n",
    "In this project, i analyzed the results of a marketing campaign using A/B testing to see if the ads made a real difference in user behaviour by comparing two groups; i.e the group that the ads was exposed to (the experimental group) and those that didn't (the control group).\n",
    "Using the conversion rates and estimated revenue from both sides, i wanted to find out if the ads actually worked, if the results were meaningful or just by chance.\n"
   ]
  },
  {
   "cell_type": "code",
   "execution_count": 77,
   "id": "e9e11e45-f1cb-46ef-8655-491703057f61",
   "metadata": {},
   "outputs": [],
   "source": [
    "import pandas as pd\n",
    "import matplotlib.pyplot as plt\n",
    "import seaborn as sns\n",
    "from statsmodels.stats.proportion import proportions_ztest"
   ]
  },
  {
   "cell_type": "code",
   "execution_count": 78,
   "id": "6b003626-8960-482d-af53-b51bbd2ff484",
   "metadata": {},
   "outputs": [
    {
     "data": {
      "text/html": [
       "<div>\n",
       "<style scoped>\n",
       "    .dataframe tbody tr th:only-of-type {\n",
       "        vertical-align: middle;\n",
       "    }\n",
       "\n",
       "    .dataframe tbody tr th {\n",
       "        vertical-align: top;\n",
       "    }\n",
       "\n",
       "    .dataframe thead th {\n",
       "        text-align: right;\n",
       "    }\n",
       "</style>\n",
       "<table border=\"1\" class=\"dataframe\">\n",
       "  <thead>\n",
       "    <tr style=\"text-align: right;\">\n",
       "      <th></th>\n",
       "      <th>Unnamed: 0</th>\n",
       "      <th>user id</th>\n",
       "      <th>test group</th>\n",
       "      <th>converted</th>\n",
       "      <th>total ads</th>\n",
       "      <th>most ads day</th>\n",
       "      <th>most ads hour</th>\n",
       "    </tr>\n",
       "  </thead>\n",
       "  <tbody>\n",
       "    <tr>\n",
       "      <th>0</th>\n",
       "      <td>0</td>\n",
       "      <td>1069124</td>\n",
       "      <td>ad</td>\n",
       "      <td>False</td>\n",
       "      <td>130</td>\n",
       "      <td>Monday</td>\n",
       "      <td>20</td>\n",
       "    </tr>\n",
       "    <tr>\n",
       "      <th>1</th>\n",
       "      <td>1</td>\n",
       "      <td>1119715</td>\n",
       "      <td>ad</td>\n",
       "      <td>False</td>\n",
       "      <td>93</td>\n",
       "      <td>Tuesday</td>\n",
       "      <td>22</td>\n",
       "    </tr>\n",
       "    <tr>\n",
       "      <th>2</th>\n",
       "      <td>2</td>\n",
       "      <td>1144181</td>\n",
       "      <td>ad</td>\n",
       "      <td>False</td>\n",
       "      <td>21</td>\n",
       "      <td>Tuesday</td>\n",
       "      <td>18</td>\n",
       "    </tr>\n",
       "    <tr>\n",
       "      <th>3</th>\n",
       "      <td>3</td>\n",
       "      <td>1435133</td>\n",
       "      <td>ad</td>\n",
       "      <td>False</td>\n",
       "      <td>355</td>\n",
       "      <td>Tuesday</td>\n",
       "      <td>10</td>\n",
       "    </tr>\n",
       "    <tr>\n",
       "      <th>4</th>\n",
       "      <td>4</td>\n",
       "      <td>1015700</td>\n",
       "      <td>ad</td>\n",
       "      <td>False</td>\n",
       "      <td>276</td>\n",
       "      <td>Friday</td>\n",
       "      <td>14</td>\n",
       "    </tr>\n",
       "  </tbody>\n",
       "</table>\n",
       "</div>"
      ],
      "text/plain": [
       "   Unnamed: 0  user id test group  converted  total ads most ads day  \\\n",
       "0           0  1069124         ad      False        130       Monday   \n",
       "1           1  1119715         ad      False         93      Tuesday   \n",
       "2           2  1144181         ad      False         21      Tuesday   \n",
       "3           3  1435133         ad      False        355      Tuesday   \n",
       "4           4  1015700         ad      False        276       Friday   \n",
       "\n",
       "   most ads hour  \n",
       "0             20  \n",
       "1             22  \n",
       "2             18  \n",
       "3             10  \n",
       "4             14  "
      ]
     },
     "execution_count": 78,
     "metadata": {},
     "output_type": "execute_result"
    }
   ],
   "source": [
    "df = pd.read_csv(\"marketing_AB.csv\")   # Importing my dataset\n",
    "df.head()"
   ]
  },
  {
   "cell_type": "code",
   "execution_count": 79,
   "id": "82162ac9-9b48-46ed-820c-83947ab71907",
   "metadata": {},
   "outputs": [
    {
     "data": {
      "text/html": [
       "<div>\n",
       "<style scoped>\n",
       "    .dataframe tbody tr th:only-of-type {\n",
       "        vertical-align: middle;\n",
       "    }\n",
       "\n",
       "    .dataframe tbody tr th {\n",
       "        vertical-align: top;\n",
       "    }\n",
       "\n",
       "    .dataframe thead th {\n",
       "        text-align: right;\n",
       "    }\n",
       "</style>\n",
       "<table border=\"1\" class=\"dataframe\">\n",
       "  <thead>\n",
       "    <tr style=\"text-align: right;\">\n",
       "      <th></th>\n",
       "      <th>Unnamed: 0</th>\n",
       "      <th>user id</th>\n",
       "      <th>test group</th>\n",
       "      <th>converted</th>\n",
       "      <th>total ads</th>\n",
       "      <th>most ads day</th>\n",
       "      <th>most ads hour</th>\n",
       "    </tr>\n",
       "  </thead>\n",
       "  <tbody>\n",
       "    <tr>\n",
       "      <th>0</th>\n",
       "      <td>0</td>\n",
       "      <td>1069124</td>\n",
       "      <td>ad</td>\n",
       "      <td>False</td>\n",
       "      <td>130</td>\n",
       "      <td>Monday</td>\n",
       "      <td>20</td>\n",
       "    </tr>\n",
       "    <tr>\n",
       "      <th>1</th>\n",
       "      <td>1</td>\n",
       "      <td>1119715</td>\n",
       "      <td>ad</td>\n",
       "      <td>False</td>\n",
       "      <td>93</td>\n",
       "      <td>Tuesday</td>\n",
       "      <td>22</td>\n",
       "    </tr>\n",
       "    <tr>\n",
       "      <th>2</th>\n",
       "      <td>2</td>\n",
       "      <td>1144181</td>\n",
       "      <td>ad</td>\n",
       "      <td>False</td>\n",
       "      <td>21</td>\n",
       "      <td>Tuesday</td>\n",
       "      <td>18</td>\n",
       "    </tr>\n",
       "    <tr>\n",
       "      <th>3</th>\n",
       "      <td>3</td>\n",
       "      <td>1435133</td>\n",
       "      <td>ad</td>\n",
       "      <td>False</td>\n",
       "      <td>355</td>\n",
       "      <td>Tuesday</td>\n",
       "      <td>10</td>\n",
       "    </tr>\n",
       "    <tr>\n",
       "      <th>4</th>\n",
       "      <td>4</td>\n",
       "      <td>1015700</td>\n",
       "      <td>ad</td>\n",
       "      <td>False</td>\n",
       "      <td>276</td>\n",
       "      <td>Friday</td>\n",
       "      <td>14</td>\n",
       "    </tr>\n",
       "    <tr>\n",
       "      <th>...</th>\n",
       "      <td>...</td>\n",
       "      <td>...</td>\n",
       "      <td>...</td>\n",
       "      <td>...</td>\n",
       "      <td>...</td>\n",
       "      <td>...</td>\n",
       "      <td>...</td>\n",
       "    </tr>\n",
       "    <tr>\n",
       "      <th>588096</th>\n",
       "      <td>588096</td>\n",
       "      <td>1278437</td>\n",
       "      <td>ad</td>\n",
       "      <td>False</td>\n",
       "      <td>1</td>\n",
       "      <td>Tuesday</td>\n",
       "      <td>23</td>\n",
       "    </tr>\n",
       "    <tr>\n",
       "      <th>588097</th>\n",
       "      <td>588097</td>\n",
       "      <td>1327975</td>\n",
       "      <td>ad</td>\n",
       "      <td>False</td>\n",
       "      <td>1</td>\n",
       "      <td>Tuesday</td>\n",
       "      <td>23</td>\n",
       "    </tr>\n",
       "    <tr>\n",
       "      <th>588098</th>\n",
       "      <td>588098</td>\n",
       "      <td>1038442</td>\n",
       "      <td>ad</td>\n",
       "      <td>False</td>\n",
       "      <td>3</td>\n",
       "      <td>Tuesday</td>\n",
       "      <td>23</td>\n",
       "    </tr>\n",
       "    <tr>\n",
       "      <th>588099</th>\n",
       "      <td>588099</td>\n",
       "      <td>1496395</td>\n",
       "      <td>ad</td>\n",
       "      <td>False</td>\n",
       "      <td>1</td>\n",
       "      <td>Tuesday</td>\n",
       "      <td>23</td>\n",
       "    </tr>\n",
       "    <tr>\n",
       "      <th>588100</th>\n",
       "      <td>588100</td>\n",
       "      <td>1237779</td>\n",
       "      <td>ad</td>\n",
       "      <td>False</td>\n",
       "      <td>1</td>\n",
       "      <td>Tuesday</td>\n",
       "      <td>23</td>\n",
       "    </tr>\n",
       "  </tbody>\n",
       "</table>\n",
       "<p>588101 rows × 7 columns</p>\n",
       "</div>"
      ],
      "text/plain": [
       "        Unnamed: 0  user id test group  converted  total ads most ads day  \\\n",
       "0                0  1069124         ad      False        130       Monday   \n",
       "1                1  1119715         ad      False         93      Tuesday   \n",
       "2                2  1144181         ad      False         21      Tuesday   \n",
       "3                3  1435133         ad      False        355      Tuesday   \n",
       "4                4  1015700         ad      False        276       Friday   \n",
       "...            ...      ...        ...        ...        ...          ...   \n",
       "588096      588096  1278437         ad      False          1      Tuesday   \n",
       "588097      588097  1327975         ad      False          1      Tuesday   \n",
       "588098      588098  1038442         ad      False          3      Tuesday   \n",
       "588099      588099  1496395         ad      False          1      Tuesday   \n",
       "588100      588100  1237779         ad      False          1      Tuesday   \n",
       "\n",
       "        most ads hour  \n",
       "0                  20  \n",
       "1                  22  \n",
       "2                  18  \n",
       "3                  10  \n",
       "4                  14  \n",
       "...               ...  \n",
       "588096             23  \n",
       "588097             23  \n",
       "588098             23  \n",
       "588099             23  \n",
       "588100             23  \n",
       "\n",
       "[588101 rows x 7 columns]"
      ]
     },
     "execution_count": 79,
     "metadata": {},
     "output_type": "execute_result"
    }
   ],
   "source": [
    "df.head(len(df))"
   ]
  },
  {
   "cell_type": "code",
   "execution_count": 80,
   "id": "fd9c30ec-85b6-4649-bba4-58a9b81ced47",
   "metadata": {},
   "outputs": [
    {
     "name": "stdout",
     "output_type": "stream",
     "text": [
      "<class 'pandas.core.frame.DataFrame'>\n",
      "RangeIndex: 588101 entries, 0 to 588100\n",
      "Data columns (total 7 columns):\n",
      " #   Column         Non-Null Count   Dtype \n",
      "---  ------         --------------   ----- \n",
      " 0   Unnamed: 0     588101 non-null  int64 \n",
      " 1   user id        588101 non-null  int64 \n",
      " 2   test group     588101 non-null  object\n",
      " 3   converted      588101 non-null  bool  \n",
      " 4   total ads      588101 non-null  int64 \n",
      " 5   most ads day   588101 non-null  object\n",
      " 6   most ads hour  588101 non-null  int64 \n",
      "dtypes: bool(1), int64(4), object(2)\n",
      "memory usage: 27.5+ MB\n"
     ]
    },
    {
     "data": {
      "text/plain": [
       "converted\n",
       "False    573258\n",
       "True      14843\n",
       "Name: count, dtype: int64"
      ]
     },
     "execution_count": 80,
     "metadata": {},
     "output_type": "execute_result"
    }
   ],
   "source": [
    "# Explore the data\n",
    "df.info()\n",
    "df.describe()\n",
    "df['test group'].value_counts()\n",
    "df['converted'].value_counts()"
   ]
  },
  {
   "cell_type": "code",
   "execution_count": 81,
   "id": "039bf145-e13f-4295-bcc8-7e8f972e119e",
   "metadata": {},
   "outputs": [
    {
     "data": {
      "text/plain": [
       "Unnamed: 0       0\n",
       "user id          0\n",
       "test group       0\n",
       "converted        0\n",
       "total ads        0\n",
       "most ads day     0\n",
       "most ads hour    0\n",
       "dtype: int64"
      ]
     },
     "execution_count": 81,
     "metadata": {},
     "output_type": "execute_result"
    }
   ],
   "source": [
    "df.isnull().sum()   # Checking for missing values"
   ]
  },
  {
   "cell_type": "code",
   "execution_count": 82,
   "id": "2fd9cb3c-7232-4cb9-a9fe-b2972c11d001",
   "metadata": {},
   "outputs": [
    {
     "name": "stdout",
     "output_type": "stream",
     "text": [
      "        User_Id Test_Group  Converted  Total_Ads Most_Ads_Day  Most_Ads_Hour\n",
      "1       1069124         ad      False        130       Monday             20\n",
      "2       1119715         ad      False         93      Tuesday             22\n",
      "3       1144181         ad      False         21      Tuesday             18\n",
      "4       1435133         ad      False        355      Tuesday             10\n",
      "5       1015700         ad      False        276       Friday             14\n",
      "...         ...        ...        ...        ...          ...            ...\n",
      "588097  1278437         ad      False          1      Tuesday             23\n",
      "588098  1327975         ad      False          1      Tuesday             23\n",
      "588099  1038442         ad      False          3      Tuesday             23\n",
      "588100  1496395         ad      False          1      Tuesday             23\n",
      "588101  1237779         ad      False          1      Tuesday             23\n",
      "\n",
      "[588101 rows x 6 columns]\n"
     ]
    }
   ],
   "source": [
    "# Remove the second column \n",
    "df.drop(df.columns[0], axis=1, inplace=True)\n",
    "\n",
    "# Reset index to start from 1\n",
    "df.index = range(1, len(df) +1)\n",
    "\n",
    "# Capitalize first letter and add underscore on it\n",
    "df.columns = [\n",
    "    '_'.join(word.capitalize() for word in col.replace('_', ' ').split())\n",
    "    for col in df.columns\n",
    "]\n",
    "\n",
    "print(df)"
   ]
  },
  {
   "cell_type": "code",
   "execution_count": 83,
   "id": "09ba555b-edaa-4a23-814b-17bb00a028ed",
   "metadata": {},
   "outputs": [
    {
     "data": {
      "image/png": "[encoded data removed]",
      "text/plain": [
       "<Figure size 640x480 with 1 Axes>"
      ]
     },
     "metadata": {},
     "output_type": "display_data"
    }
   ],
   "source": [
    "# Visualise the group\n",
    "sns.countplot(x='Test_Group', hue='Converted', data=df)\n",
    "plt.title('Conversion Count by Test Group')\n",
    "plt.show()\n",
    "          "
   ]
  },
  {
   "cell_type": "markdown",
   "id": "9139b2a9-3b21-439f-946c-00d4660e329f",
   "metadata": {},
   "source": [
    "*The Bar Plot above shows that most of the people in both groups(ad and psa) did not convert. \n",
    "Also from the chart plotted, you will notice that the ad group have few or more conversion than psa group."
   ]
  },
  {
   "cell_type": "code",
   "execution_count": 84,
   "id": "79738427-30a9-4939-b916-9988892b8f23",
   "metadata": {},
   "outputs": [
    {
     "data": {
      "text/html": [
       "<div>\n",
       "<style scoped>\n",
       "    .dataframe tbody tr th:only-of-type {\n",
       "        vertical-align: middle;\n",
       "    }\n",
       "\n",
       "    .dataframe tbody tr th {\n",
       "        vertical-align: top;\n",
       "    }\n",
       "\n",
       "    .dataframe thead th {\n",
       "        text-align: right;\n",
       "    }\n",
       "</style>\n",
       "<table border=\"1\" class=\"dataframe\">\n",
       "  <thead>\n",
       "    <tr style=\"text-align: right;\">\n",
       "      <th></th>\n",
       "      <th>sum</th>\n",
       "      <th>count</th>\n",
       "      <th>Conversion Rate</th>\n",
       "    </tr>\n",
       "    <tr>\n",
       "      <th>Test_Group</th>\n",
       "      <th></th>\n",
       "      <th></th>\n",
       "      <th></th>\n",
       "    </tr>\n",
       "  </thead>\n",
       "  <tbody>\n",
       "    <tr>\n",
       "      <th>ad</th>\n",
       "      <td>14423</td>\n",
       "      <td>564577</td>\n",
       "      <td>0.025547</td>\n",
       "    </tr>\n",
       "    <tr>\n",
       "      <th>psa</th>\n",
       "      <td>420</td>\n",
       "      <td>23524</td>\n",
       "      <td>0.017854</td>\n",
       "    </tr>\n",
       "  </tbody>\n",
       "</table>\n",
       "</div>"
      ],
      "text/plain": [
       "              sum   count  Conversion Rate\n",
       "Test_Group                                \n",
       "ad          14423  564577         0.025547\n",
       "psa           420   23524         0.017854"
      ]
     },
     "execution_count": 84,
     "metadata": {},
     "output_type": "execute_result"
    }
   ],
   "source": [
    "# Calaulate the Conversion Rates\n",
    "conversion_rates = df.groupby('Test_Group')['Converted'].agg(['sum', 'count'])\n",
    "conversion_rates['Conversion Rate'] = conversion_rates['sum'] / conversion_rates['count']\n",
    "conversion_rates"
   ]
  },
  {
   "cell_type": "markdown",
   "id": "4ff24718-9c73-4130-9e8e-d6b7a1baa358",
   "metadata": {},
   "source": [
    "* In the analysis above, the experimental group(ad) had a higher conversion rate than the control group(psa). \n",
    "To back up this statement or lines of codes, i proceeded to conduct a statistical test."
   ]
  },
  {
   "cell_type": "code",
   "execution_count": 85,
   "id": "9b823b7e-9657-496f-9081-5891d00f3346",
   "metadata": {},
   "outputs": [],
   "source": [
    "df.columns = df.columns.str.strip().str.title().str.replace(' ','_')\n"
   ]
  },
  {
   "cell_type": "code",
   "execution_count": 86,
   "id": "d378eeed-3392-4e30-bd0b-bccd8967c2b9",
   "metadata": {},
   "outputs": [
    {
     "data": {
      "text/html": [
       "<div>\n",
       "<style scoped>\n",
       "    .dataframe tbody tr th:only-of-type {\n",
       "        vertical-align: middle;\n",
       "    }\n",
       "\n",
       "    .dataframe tbody tr th {\n",
       "        vertical-align: top;\n",
       "    }\n",
       "\n",
       "    .dataframe thead th {\n",
       "        text-align: right;\n",
       "    }\n",
       "</style>\n",
       "<table border=\"1\" class=\"dataframe\">\n",
       "  <thead>\n",
       "    <tr style=\"text-align: right;\">\n",
       "      <th></th>\n",
       "      <th>User_Id</th>\n",
       "      <th>Test_Group</th>\n",
       "      <th>Converted</th>\n",
       "      <th>Total_Ads</th>\n",
       "      <th>Most_Ads_Day</th>\n",
       "      <th>Most_Ads_Hour</th>\n",
       "    </tr>\n",
       "  </thead>\n",
       "  <tbody>\n",
       "    <tr>\n",
       "      <th>1</th>\n",
       "      <td>1069124</td>\n",
       "      <td>ad</td>\n",
       "      <td>0</td>\n",
       "      <td>130</td>\n",
       "      <td>Monday</td>\n",
       "      <td>20</td>\n",
       "    </tr>\n",
       "    <tr>\n",
       "      <th>2</th>\n",
       "      <td>1119715</td>\n",
       "      <td>ad</td>\n",
       "      <td>0</td>\n",
       "      <td>93</td>\n",
       "      <td>Tuesday</td>\n",
       "      <td>22</td>\n",
       "    </tr>\n",
       "    <tr>\n",
       "      <th>3</th>\n",
       "      <td>1144181</td>\n",
       "      <td>ad</td>\n",
       "      <td>0</td>\n",
       "      <td>21</td>\n",
       "      <td>Tuesday</td>\n",
       "      <td>18</td>\n",
       "    </tr>\n",
       "    <tr>\n",
       "      <th>4</th>\n",
       "      <td>1435133</td>\n",
       "      <td>ad</td>\n",
       "      <td>0</td>\n",
       "      <td>355</td>\n",
       "      <td>Tuesday</td>\n",
       "      <td>10</td>\n",
       "    </tr>\n",
       "    <tr>\n",
       "      <th>5</th>\n",
       "      <td>1015700</td>\n",
       "      <td>ad</td>\n",
       "      <td>0</td>\n",
       "      <td>276</td>\n",
       "      <td>Friday</td>\n",
       "      <td>14</td>\n",
       "    </tr>\n",
       "    <tr>\n",
       "      <th>...</th>\n",
       "      <td>...</td>\n",
       "      <td>...</td>\n",
       "      <td>...</td>\n",
       "      <td>...</td>\n",
       "      <td>...</td>\n",
       "      <td>...</td>\n",
       "    </tr>\n",
       "    <tr>\n",
       "      <th>588097</th>\n",
       "      <td>1278437</td>\n",
       "      <td>ad</td>\n",
       "      <td>0</td>\n",
       "      <td>1</td>\n",
       "      <td>Tuesday</td>\n",
       "      <td>23</td>\n",
       "    </tr>\n",
       "    <tr>\n",
       "      <th>588098</th>\n",
       "      <td>1327975</td>\n",
       "      <td>ad</td>\n",
       "      <td>0</td>\n",
       "      <td>1</td>\n",
       "      <td>Tuesday</td>\n",
       "      <td>23</td>\n",
       "    </tr>\n",
       "    <tr>\n",
       "      <th>588099</th>\n",
       "      <td>1038442</td>\n",
       "      <td>ad</td>\n",
       "      <td>0</td>\n",
       "      <td>3</td>\n",
       "      <td>Tuesday</td>\n",
       "      <td>23</td>\n",
       "    </tr>\n",
       "    <tr>\n",
       "      <th>588100</th>\n",
       "      <td>1496395</td>\n",
       "      <td>ad</td>\n",
       "      <td>0</td>\n",
       "      <td>1</td>\n",
       "      <td>Tuesday</td>\n",
       "      <td>23</td>\n",
       "    </tr>\n",
       "    <tr>\n",
       "      <th>588101</th>\n",
       "      <td>1237779</td>\n",
       "      <td>ad</td>\n",
       "      <td>0</td>\n",
       "      <td>1</td>\n",
       "      <td>Tuesday</td>\n",
       "      <td>23</td>\n",
       "    </tr>\n",
       "  </tbody>\n",
       "</table>\n",
       "<p>588101 rows × 6 columns</p>\n",
       "</div>"
      ],
      "text/plain": [
       "        User_Id Test_Group  Converted  Total_Ads Most_Ads_Day  Most_Ads_Hour\n",
       "1       1069124         ad          0        130       Monday             20\n",
       "2       1119715         ad          0         93      Tuesday             22\n",
       "3       1144181         ad          0         21      Tuesday             18\n",
       "4       1435133         ad          0        355      Tuesday             10\n",
       "5       1015700         ad          0        276       Friday             14\n",
       "...         ...        ...        ...        ...          ...            ...\n",
       "588097  1278437         ad          0          1      Tuesday             23\n",
       "588098  1327975         ad          0          1      Tuesday             23\n",
       "588099  1038442         ad          0          3      Tuesday             23\n",
       "588100  1496395         ad          0          1      Tuesday             23\n",
       "588101  1237779         ad          0          1      Tuesday             23\n",
       "\n",
       "[588101 rows x 6 columns]"
      ]
     },
     "execution_count": 86,
     "metadata": {},
     "output_type": "execute_result"
    }
   ],
   "source": [
    "# Convert Booleans to integer\n",
    "df['Converted'] = df['Converted'].astype(int)\n",
    "df"
   ]
  },
  {
   "cell_type": "code",
   "execution_count": 87,
   "id": "f8cd7cc9-a6ec-4409-8543-990ef983b334",
   "metadata": {},
   "outputs": [
    {
     "name": "stdout",
     "output_type": "stream",
     "text": [
      "0\n"
     ]
    }
   ],
   "source": [
    "print(df['Converted'].isna().sum())"
   ]
  },
  {
   "cell_type": "code",
   "execution_count": 88,
   "id": "e9ec2eaf-4f83-428b-b596-d2b843b7206c",
   "metadata": {},
   "outputs": [
    {
     "name": "stdout",
     "output_type": "stream",
     "text": [
      "['ad' 'psa']\n"
     ]
    }
   ],
   "source": [
    "print(df['Test_Group'].unique())"
   ]
  },
  {
   "cell_type": "code",
   "execution_count": 89,
   "id": "276bf6e5-49e0-4068-8763-825083d818d1",
   "metadata": {},
   "outputs": [
    {
     "name": "stdout",
     "output_type": "stream",
     "text": [
      "564577 23524\n",
      "Z-statistic: 7.370078\n",
      "P-value: 0.0000\n",
      "Statistically significant\n"
     ]
    }
   ],
   "source": [
    "# Split the test groups\n",
    "group_ad = df[df['Test_Group'] == 'ad']\n",
    "group_psa= df[df['Test_Group'] == 'psa']\n",
    "\n",
    "print(len(group_ad), len(group_psa))\n",
    "\n",
    "# Number of Conversions and Sample sizes\n",
    "conversions = [group_ad['Converted'].sum(), group_psa['Converted'].sum()]\n",
    "samples = [len(group_ad), len(group_psa)]\n",
    "\n",
    "# Run Proportional z-test\n",
    "stat, pval = proportions_ztest(count=conversions, nobs=samples)\n",
    "print(f\"Z-statistic: {stat:4f}\")\n",
    "print(f\"P-value: {pval:.4f}\")\n",
    "\n",
    "if pval < 0.05:\n",
    "    print(\"Statistically significant\")\n",
    "else:\n",
    "    print(\"No statistically sigificant\")"
   ]
  },
  {
   "cell_type": "code",
   "execution_count": 90,
   "id": "5fc0078a-68c0-4aa4-91d8-85e3c14ab6bf",
   "metadata": {},
   "outputs": [
    {
     "name": "stdout",
     "output_type": "stream",
     "text": [
      "Z-statistic: 7.3700781265454145\n",
      "P-value: 1.7052807161559727e-13\n"
     ]
    }
   ],
   "source": [
    "# A/B Hypothesis Testing\n",
    "converted = conversion_rates['sum'].values\n",
    "total = conversion_rates['count'].values\n",
    "\n",
    "z_stat, p_val = proportions_ztest(count=converted, nobs=total)\n",
    "print(f\"Z-statistic: {z_stat}\")\n",
    "print(f\"P-value: {p_val}\")\n"
   ]
  },
  {
   "cell_type": "markdown",
   "id": "860b1b05-4249-414f-9486-b5338ff8ed7d",
   "metadata": {},
   "source": [
    "*Here the p-value is very small, extremely lesser than 0.05 and the z-score is way far from zero. \n",
    "The output tells us that ads campaign have more impact on conversion and much difference between groups in standard deviation."
   ]
  },
  {
   "cell_type": "code",
   "execution_count": 91,
   "id": "d6ef9087-18e8-4363-9528-c9db4303103f",
   "metadata": {},
   "outputs": [
    {
     "data": {
      "text/html": [
       "<div>\n",
       "<style scoped>\n",
       "    .dataframe tbody tr th:only-of-type {\n",
       "        vertical-align: middle;\n",
       "    }\n",
       "\n",
       "    .dataframe tbody tr th {\n",
       "        vertical-align: top;\n",
       "    }\n",
       "\n",
       "    .dataframe thead th {\n",
       "        text-align: right;\n",
       "    }\n",
       "</style>\n",
       "<table border=\"1\" class=\"dataframe\">\n",
       "  <thead>\n",
       "    <tr style=\"text-align: right;\">\n",
       "      <th></th>\n",
       "      <th>sum</th>\n",
       "      <th>count</th>\n",
       "      <th>Conversion Rate</th>\n",
       "      <th>Estimated Revenue</th>\n",
       "    </tr>\n",
       "    <tr>\n",
       "      <th>Test_Group</th>\n",
       "      <th></th>\n",
       "      <th></th>\n",
       "      <th></th>\n",
       "      <th></th>\n",
       "    </tr>\n",
       "  </thead>\n",
       "  <tbody>\n",
       "    <tr>\n",
       "      <th>ad</th>\n",
       "      <td>14423</td>\n",
       "      <td>564577</td>\n",
       "      <td>0.025547</td>\n",
       "      <td>288460</td>\n",
       "    </tr>\n",
       "    <tr>\n",
       "      <th>psa</th>\n",
       "      <td>420</td>\n",
       "      <td>23524</td>\n",
       "      <td>0.017854</td>\n",
       "      <td>8400</td>\n",
       "    </tr>\n",
       "  </tbody>\n",
       "</table>\n",
       "</div>"
      ],
      "text/plain": [
       "              sum   count  Conversion Rate  Estimated Revenue\n",
       "Test_Group                                                   \n",
       "ad          14423  564577         0.025547             288460\n",
       "psa           420   23524         0.017854               8400"
      ]
     },
     "execution_count": 91,
     "metadata": {},
     "output_type": "execute_result"
    }
   ],
   "source": [
    "# Estimate Revenue\n",
    "revenue_per_conversion = 20\n",
    "conversion_rates['Estimated Revenue'] = conversion_rates['sum'] * revenue_per_conversion\n",
    "conversion_rates"
   ]
  },
  {
   "cell_type": "markdown",
   "id": "4f3b0a5b-56f1-4fb9-b463-0b1cd9718f0e",
   "metadata": {},
   "source": [
    "*With the small assumed revenue of 20 per conversion, the estimated revenue for ads campaign generated much more than that of psa group.\n",
    "This indicates that the ads campaign was more effective in revenue and conversion."
   ]
  },
  {
   "cell_type": "code",
   "execution_count": 92,
   "id": "7b660e0d-899a-4aa7-ac83-3528ad9ef87d",
   "metadata": {},
   "outputs": [
    {
     "data": {
      "image/png": "[encoded data removed]",
      "text/plain": [
       "<Figure size 640x480 with 1 Axes>"
      ]
     },
     "metadata": {},
     "output_type": "display_data"
    },
    {
     "data": {
      "image/png": "[encoded data removed]",
      "text/plain": [
       "<Figure size 640x480 with 1 Axes>"
      ]
     },
     "metadata": {},
     "output_type": "display_data"
    }
   ],
   "source": [
    "# Analyses the other columns\n",
    "sns.histplot(data=df, x='Total_Ads', hue='Test_Group', kde=True)\n",
    "plt.title(\"Ad Exposure by Group\")\n",
    "plt.show()\n",
    "\n",
    "sns.boxplot(x='Test_Group', y='Total_Ads', data=df)\n",
    "plt.title(\"Distribution of Total Ads Seen\")\n",
    "plt.show()\n"
   ]
  },
  {
   "cell_type": "markdown",
   "id": "e5ed4b08-6a6a-4d59-965b-e4fba869b4ab",
   "metadata": {},
   "source": [
    "*The Histogram Chart shows that ad exposure is not equally distributed, many users got little or no exposure while some got alot of exposure.\n",
    "The distribution is highly skewed to the left, this unbalanced exposure influences how effective the campaign is and might be something to control for.\n",
    "\n",
    "*The Box Plot shows how each group were exposed to ads. from the chart, ypu will notice that most users saw between 0 and 200 ads, then the outliers who saw much more ads than average. it also confirm that the ad didtribution is skewed and some users have extremely exposure."
   ]
  },
  {
   "cell_type": "markdown",
   "id": "e6efb2b1-063d-4baa-b563-8553c749c0dd",
   "metadata": {},
   "source": [
    "In conclusion, the ad campaign can be considered effective with strong evidence and background. "
   ]
  },
  {
   "cell_type": "code",
   "execution_count": null,
   "id": "7c820c84-d98f-4fe0-a67c-ce9b80bced8f",
   "metadata": {},
   "outputs": [],
   "source": []
  },
  {
   "cell_type": "code",
   "execution_count": null,
   "id": "ff050044-9d6f-4c29-81d7-93aa8c80a578",
   "metadata": {},
   "outputs": [],
   "source": []
  }
 ],
 "metadata": {
  "kernelspec": {
   "display_name": "Python 3 (ipykernel)",
   "language": "python",
   "name": "python3"
  },
  "language_info": {
   "codemirror_mode": {
    "name": "ipython",
    "version": 3
   },
   "file_extension": ".py",
   "mimetype": "text/x-python",
   "name": "python",
   "nbconvert_exporter": "python",
   "pygments_lexer": "ipython3",
   "version": "3.12.7"
  }
 },
 "nbformat": 4,
 "nbformat_minor": 5
}
